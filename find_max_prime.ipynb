{
 "cells": [
  {
   "cell_type": "code",
   "execution_count": 1,
   "metadata": {},
   "outputs": [],
   "source": [
    "import numpy as np\n",
    "import time\n"
   ]
  },
  {
   "cell_type": "code",
   "execution_count": 4,
   "metadata": {},
   "outputs": [
    {
     "name": "stdout",
     "output_type": "stream",
     "text": [
      "輸入正整數: 999998888877777\n",
      "999998888877719 is the maximun prime smaller than 999998888877777\n",
      "spend time: 5.47138237953186 (sec)\n"
     ]
    }
   ],
   "source": [
    "#seconds1 = time.time()\n",
    "\n",
    "### start primes\n",
    "\n",
    "number = int(input('輸入正整數: '))\n",
    "\n",
    "primes = []\n",
    "\n",
    "seconds1 = time.time()\n",
    "\n",
    "if number%2 == 0:\n",
    "    number0 = number - 1\n",
    "else:\n",
    "    number0 = number\n",
    "\n",
    "# 生成猶大而小的數列\n",
    "for i in range(number0, 2 ,-2):\n",
    "    \n",
    "    # 取非平方數\n",
    "    if np.sqrt(i) - int(np.sqrt(i)) != 0 :\n",
    "\n",
    "        # 取小於\"數\"自身平方的數 -> 生成數列 (0~10)\n",
    "        ii = int(np.sqrt(i))\n",
    "        \n",
    "        # 把\"數\"除以 生成數列，如果有辦法整除 -> break\n",
    "        for j in range(2,ii,1):\n",
    "            if i % j == 0:\n",
    "                break\n",
    "        else:\n",
    "            primes.append(i)\n",
    "    if len(primes) > 0:\n",
    "        break\n",
    "        \n",
    "\n",
    "print(primes[0], 'is the maximun prime smaller than', number)\n",
    "seconds2 = time.time()\n",
    "print('spend time:', seconds2 - seconds1 , '(sec)')"
   ]
  },
  {
   "cell_type": "code",
   "execution_count": 6,
   "metadata": {
    "scrolled": true
   },
   "outputs": [
    {
     "name": "stdout",
     "output_type": "stream",
     "text": [
      "988987871\n"
     ]
    }
   ],
   "source": [
    "number = 988987872\n",
    "\n",
    "if number%2 == 0:\n",
    "    number0 = number -1\n",
    "\n",
    "else:\n",
    "    number0 = number\n",
    "print(number0)"
   ]
  },
  {
   "cell_type": "code",
   "execution_count": null,
   "metadata": {},
   "outputs": [],
   "source": [
    "if number%2 >= 0:\n",
    "    number = number - 1\n",
    "    \n",
    "print(number)\n",
    "\n",
    "for i in range(number, 2 ,-2):\n",
    "    print(i)"
   ]
  },
  {
   "cell_type": "code",
   "execution_count": null,
   "metadata": {},
   "outputs": [],
   "source": [
    "for p in range(78-1, 3, -2):\n",
    "    print(p)"
   ]
  },
  {
   "cell_type": "code",
   "execution_count": null,
   "metadata": {},
   "outputs": [],
   "source": [
    "# Program to check if a number is prime or not\n",
    "\n",
    "num = 407\n",
    "\n",
    "# To take input from the user\n",
    "#num = int(input(\"Enter a number: \"))\n",
    "\n",
    "# prime numbers are greater than 1\n",
    "if num > 1:\n",
    "   # check for factors\n",
    "   for i in range(2,num):\n",
    "       if (num % i) == 0:\n",
    "           print(num,\"is not a prime number\")\n",
    "           print(i,\"times\",num//i,\"is\",num)\n",
    "           break\n",
    "   else:\n",
    "       print(num,\"is a prime number\")\n",
    "       \n",
    "# if input number is less than\n",
    "# or equal to 1, it is not prime\n",
    "else:\n",
    "   print(num,\"is not a prime number\")\n"
   ]
  },
  {
   "cell_type": "code",
   "execution_count": 30,
   "metadata": {},
   "outputs": [
    {
     "data": {
      "text/plain": [
       "159.79250000000002"
      ]
     },
     "execution_count": 30,
     "metadata": {},
     "output_type": "execute_result"
    }
   ],
   "source": [
    "#放假天數 = 8\n",
    "365.24/(8*2/7)\n"
   ]
  },
  {
   "cell_type": "code",
   "execution_count": null,
   "metadata": {},
   "outputs": [],
   "source": []
  }
 ],
 "metadata": {
  "kernelspec": {
   "display_name": "Python 3",
   "language": "python",
   "name": "python3"
  },
  "language_info": {
   "codemirror_mode": {
    "name": "ipython",
    "version": 3
   },
   "file_extension": ".py",
   "mimetype": "text/x-python",
   "name": "python",
   "nbconvert_exporter": "python",
   "pygments_lexer": "ipython3",
   "version": "3.8.3"
  }
 },
 "nbformat": 4,
 "nbformat_minor": 4
}
